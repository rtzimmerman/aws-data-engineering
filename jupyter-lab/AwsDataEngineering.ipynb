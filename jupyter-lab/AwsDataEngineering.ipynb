{
 "cells": [
  {
   "cell_type": "markdown",
   "id": "4335a872-850e-41d8-b78e-773b6709869c",
   "metadata": {},
   "source": [
    "1. Create an S3 Bucket to upload bike data CSV file"
   ]
  },
  {
   "cell_type": "code",
   "execution_count": 22,
   "id": "5a64fbb9-482f-495f-b493-b91461d44c53",
   "metadata": {},
   "outputs": [
    {
     "name": "stdout",
     "output_type": "stream",
     "text": [
      "{\n",
      "    \"Location\": \"http://aws-glue-bike-data-activity-file-upload.s3.amazonaws.com/\"\n",
      "}\n"
     ]
    }
   ],
   "source": [
    "!aws s3api create-bucket --bucket aws-glue-bike-data-activity-file-upload --region us-east-2 --create-bucket-configuration LocationConstraint=us-east-2 "
   ]
  },
  {
   "cell_type": "markdown",
   "id": "8c13e6f6-2d90-414e-97ca-c80b05b81b38",
   "metadata": {},
   "source": [
    "2. Copy initial CSV file into S3 Bucket"
   ]
  },
  {
   "cell_type": "code",
   "execution_count": 24,
   "id": "a4d3f355-ee6a-4e0f-882b-8909e05cce3b",
   "metadata": {},
   "outputs": [
    {
     "name": "stdout",
     "output_type": "stream",
     "text": [
      "upload: ./Activities.csv to s3://aws-glue-bike-data-activity-file-upload/Activities.csv\n"
     ]
    }
   ],
   "source": [
    "!aws s3 cp Activities.csv s3://aws-glue-bike-data-activity-file-upload/ "
   ]
  },
  {
   "cell_type": "markdown",
   "id": "b6661828-57e2-4501-a61f-f0eb85dbc1bb",
   "metadata": {},
   "source": [
    "3. Run ETL Job on Uploaded File"
   ]
  },
  {
   "cell_type": "code",
   "execution_count": 2,
   "id": "8a830509-5763-49d5-820a-77ab7d5ee215",
   "metadata": {},
   "outputs": [
    {
     "name": "stdout",
     "output_type": "stream",
     "text": [
      "Number of records: 20\n",
      "Number of records (): 20\n",
      "+-------------------+--------------------+--------+--------+----------+------+------+---------+---------+------------+-------------+----------------+----------------+---------+---------+------------+-------------+-------------+\n",
      "|               Date|               Title|Distance|Calories|      Time|Avg HR|Max HR|Avg Speed|Max Speed|Total Ascent|Total Descent|Avg Bike Cadence|Max Bike Cadence|Avg Power|Max Power|Elapsed Time|Min Elevation|Max Elevation|\n",
      "+-------------------+--------------------+--------+--------+----------+------+------+---------+---------+------------+-------------+----------------+----------------+---------+---------+------------+-------------+-------------+\n",
      "|2024-01-18 14:57:34|Folly Beach Road ...|    0.05|       2|00:00:21.8|    98|   100|      8.1|     10.1|          --|           --|              52|              58|        0|        0|  00:00:21.8|           52|           54|\n",
      "|2024-02-20 12:50:51|Chicago Road Cycling|   23.15|     659|  01:28:22|   130|   155|     15.7|     26.9|         535|          387|              79|             117|        0|        0|    01:31:29|          583|          622|\n",
      "|2024-01-18 14:59:22|Folly Beach Road ...|   10.46|     389|  00:35:03|   145|   155|     17.9|     21.5|          92|          112|              78|              99|        0|        0|    00:36:03|           26|           49|\n",
      "|2023-10-28 16:46:47|Thousand Oaks Roa...|    0.04|       1|00:00:16.2|    83|    86|      8.5|      9.5|          --|           --|              41|              63|        0|        0|  00:00:23.4|          638|          640|\n",
      "|2024-02-26 16:54:08|Chicago Road Cycling|    9.87|     451|  00:35:11|     0|     0|     16.8|     27.2|         125|          128|              83|             112|        0|        0|    00:36:51|          579|          614|\n",
      "+-------------------+--------------------+--------+--------+----------+------+------+---------+---------+------------+-------------+----------------+----------------+---------+---------+------------+-------------+-------------+\n",
      "only showing top 5 rows\n"
     ]
    }
   ],
   "source": [
    "from pyspark.sql import SparkSession \n",
    "from awsglue.context import GlueContext \n",
    "\n",
    "# Create a SparkSession \n",
    "spark = SparkSession.builder.appName(\"Read from S3\").getOrCreate() \n",
    "\n",
    "# Create a AWS Glue Context\n",
    "glueContext = GlueContext(spark.sparkContext) \n",
    "\n",
    "# S3 bucket and prefix (folder) containing CSV files\n",
    "s3_bucket = \"bike-data-activity-file-upload\"\n",
    "\n",
    "# Construct the S3 path pattern\n",
    "s3_path_pattern = f\"s3://bike-data-activity-file-upload/Activities.csv\"\n",
    "\n",
    "# Read all CSV files from S3 into a single DataFrame\n",
    "df = spark.read.csv(s3_path_pattern, header=True, inferSchema=True)\n",
    "\n",
    "record_count = df.count()\n",
    "\n",
    "# Display the number of records\n",
    "print(\"Number of records:\", record_count)\n",
    "\n",
    "# Drop duplicate records from CSVs\n",
    "df_dropped_duplicates = df.dropDuplicates();\n",
    "record_count = df_dropped_duplicates.count()\n",
    "print(\"Number of records ():\", record_count)\n",
    "\n",
    "# Filter out activites that are not Road Cycling \n",
    "filtered_data = df_dropped_duplicates.filter(df[\"Activity Type\"] == \"Road Cycling\")\n",
    "\n",
    "# Drop columns we are not interested in \n",
    "columns_to_drop = [\"Activity Type\", \"Favorite\", \"Avg Vertical Ratio\", \"Avg Vertical Oscillation\", \"Avg Ground Contact Time\", \"Training Stress Score®\", \"Grit\", \"Flow\", \"Surface Interval\", \"Decompression\", \"Best Lap Time\", \"Number of Laps\", \"Avg. Swolf\", \"Dive Time\", \"Avg Stride Length\", \"Aerobic TE\", \"Total Reps\", \"Min Temp\", \"Max Temp\", \"Total Strokes\" , \"Avg Stroke Rate\", \"Avg Resp\", \"Min Resp\", \"Max Resp\", \"Moving Time\"]\n",
    "transformed_data = filtered_data.drop(*columns_to_drop)\n",
    "transformed_data.show(5)\n",
    "\n",
    "# Define the output S3 path (destination bucket)\n",
    "output_path = f\"s3://{s3_bucket}/processed-data/\"\n",
    "\n",
    "# Write the processed data to the destination S3 bucket as a CSV file\n",
    "transformed_data.coalesce(1).write.option(\"header\", \"true\").mode(\"overwrite\").csv(output_path)\n",
    "\n"
   ]
  },
  {
   "cell_type": "markdown",
   "id": "1713cca4-5aea-4036-8bea-9eafc40c1538",
   "metadata": {},
   "source": [
    "4. Create job in AWS Glue for automtion"
   ]
  },
  {
   "cell_type": "code",
   "execution_count": null,
   "id": "4a7ebf25-1142-45d0-9255-837fab6fdcb0",
   "metadata": {},
   "outputs": [],
   "source": []
  }
 ],
 "metadata": {
  "kernelspec": {
   "display_name": "Glue PySpark and Ray",
   "language": "python",
   "name": "glue_pyspark"
  },
  "language_info": {
   "codemirror_mode": {
    "name": "python",
    "version": 3
   },
   "file_extension": ".py",
   "mimetype": "text/x-python",
   "name": "Python_Glue_Session",
   "pygments_lexer": "python3"
  }
 },
 "nbformat": 4,
 "nbformat_minor": 5
}
